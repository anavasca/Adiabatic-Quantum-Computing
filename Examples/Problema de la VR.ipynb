{
 "cells": [
  {
   "attachments": {},
   "cell_type": "markdown",
   "metadata": {},
   "source": [
    "# **Problema de un recorrido condicionado**"
   ]
  },
  {
   "cell_type": "code",
   "execution_count": 1,
   "metadata": {},
   "outputs": [
    {
     "data": {
      "text/plain": [
       "{'in2': [0], 'in1': [2, 7], 'out': [6]}"
      ]
     },
     "execution_count": 1,
     "metadata": {},
     "output_type": "execute_result"
    }
   ],
   "source": [
    "import minorminer\n",
    "import dwave_networkx as dnx\n",
    "from dimod.generators import and_gate\n",
    "bqm_and1 = and_gate('in1', 'in2', 'out')\n",
    "C1 = dnx.chimera_graph(1)\n",
    "embedding_and = minorminer.find_embedding(list(bqm_and1.quadratic.keys()), C1)\n",
    "embedding_and                                          \n"
   ]
  },
  {
   "cell_type": "code",
   "execution_count": 2,
   "metadata": {},
   "outputs": [],
   "source": [
    "import networkx as nx\n",
    "import random\n",
    "import numpy as np\n",
    "import dwave_networkx as dnx\n",
    "import dimod\n",
    "from dwave.system import DWaveSampler, LazyFixedEmbeddingComposite\n",
    "import dwave.inspector\n",
    "# Create a problem\n",
    "G = nx.generators.complete_graph(30)\n",
    "G.add_edges_from([(u, v, {'sign': 2*random.randint(0, 1) - 1}) for u, v in G.edges])\n",
    "h, J = dnx.algorithms.social.structural_imbalance_ising(G)\n",
    "bqm = dimod.BQM.from_ising(h, J)\n",
    "# Sample on a D-Wave system\n",
    "num_samples = 1000\n",
    "sampler = LazyFixedEmbeddingComposite(DWaveSampler())\n",
    "sampleset = sampler.sample(bqm, num_reads=num_samples)        "
   ]
  },
  {
   "cell_type": "code",
   "execution_count": 3,
   "metadata": {},
   "outputs": [
    {
     "name": "stdout",
     "output_type": "stream",
     "text": [
      "7.614623037288188\n"
     ]
    }
   ],
   "source": [
    "print(sampleset.info[\"embedding_context\"][\"chain_strength\"])    "
   ]
  },
  {
   "cell_type": "code",
   "execution_count": 4,
   "metadata": {},
   "outputs": [
    {
     "name": "stdout",
     "output_type": "stream",
     "text": [
      "6\n"
     ]
    }
   ],
   "source": [
    "chains = sampleset.info[\"embedding_context\"][\"embedding\"].values()  \n",
    "print(max(len(chain) for chain in chains))               "
   ]
  },
  {
   "cell_type": "code",
   "execution_count": 5,
   "metadata": {},
   "outputs": [
    {
     "name": "stdout",
     "output_type": "stream",
     "text": [
      "Percentage of samples with >10% breaks is 0.0 and >0 is 8.799999999999999.\n"
     ]
    }
   ],
   "source": [
    "print(\"Percentage of samples with >10% breaks is {} and >0 is {}.\".format(\n",
    "      np.count_nonzero(sampleset.record.chain_break_fraction > 0.10)/num_samples*100,\n",
    "      np.count_nonzero(sampleset.record.chain_break_fraction > 0.0)/num_samples*100)) "
   ]
  },
  {
   "cell_type": "code",
   "execution_count": 6,
   "metadata": {},
   "outputs": [
    {
     "data": {
      "text/html": [
       "<iframe src=http://127.0.0.1:18000/?problemId=a0f11cd3-94d4-4590-9357-14ad194529e5 width=\"100%\" height=640></iframe>"
      ],
      "text/plain": [
       "Serving Inspector on http://127.0.0.1:18000/?problemId=a0f11cd3-94d4-4590-9357-14ad194529e5"
      ]
     },
     "metadata": {},
     "output_type": "display_data"
    },
    {
     "data": {
      "text/plain": [
       "'http://127.0.0.1:18000/?problemId=a0f11cd3-94d4-4590-9357-14ad194529e5'"
      ]
     },
     "execution_count": 6,
     "metadata": {},
     "output_type": "execute_result"
    }
   ],
   "source": [
    "dwave.inspector.show(sampleset)                       "
   ]
  }
 ],
 "metadata": {
  "kernelspec": {
   "display_name": "Python 3",
   "language": "python",
   "name": "python3"
  },
  "language_info": {
   "codemirror_mode": {
    "name": "ipython",
    "version": 3
   },
   "file_extension": ".py",
   "mimetype": "text/x-python",
   "name": "python",
   "nbconvert_exporter": "python",
   "pygments_lexer": "ipython3",
   "version": "3.11.2"
  },
  "orig_nbformat": 4
 },
 "nbformat": 4,
 "nbformat_minor": 2
}
