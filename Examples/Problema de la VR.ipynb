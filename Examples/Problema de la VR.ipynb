{
 "cells": [
  {
   "attachments": {},
   "cell_type": "markdown",
   "metadata": {},
   "source": [
    "# **Problema de un recorrido condicionado**"
   ]
  },
  {
   "cell_type": "code",
   "execution_count": 9,
   "metadata": {},
   "outputs": [
    {
     "name": "stdout",
     "output_type": "stream",
     "text": [
      "La solución óptima es: {0: 0, 1: 0, 2: 1, 3: 0, 4: 0}\n",
      "El peso total de la mochila es: 7\n",
      "El valor total de la mochila es: 30\n"
     ]
    }
   ],
   "source": [
    "# Importamos las bibliotecas necesarias\n",
    "\n",
    "from dwave.system import *\n",
    "import dimod\n",
    "from dimod import SimulatedAnnealingSampler\n",
    "\n",
    "# Definimos los parámetros del problema de la mochila\n",
    "\n",
    "weights = [2, 5, 7, 3, 1]   # Pesos de cada objeto\n",
    "values = [10, 20, 30, 15, 5]   # Valores de cada objeto\n",
    "capacity = 10   # Capacidad máxima de la mochila\n",
    "\n",
    "# Creamos el modelo del problema\n",
    "\n",
    "model = dimod.BinaryQuadraticModel.empty(dimod.BINARY)\n",
    "for i in range(len(weights)):\n",
    "    for j in range(len(weights)):\n",
    "        if i != j:\n",
    "            model.add_interaction(i, j, values[i]*values[j])\n",
    "    model.add_variable(i, values[i]-capacity*weights[i])\n",
    "\n",
    "# Utilizamos el SimulatedAnnealingSampler como solver\n",
    "\n",
    "sampler = SimulatedAnnealingSampler()\n",
    "sampleset = sampler.sample(model, num_reads=1000)\n",
    "\n",
    "# Imprimimos la solución óptima\n",
    "\n",
    "best_solution = sampleset.first.sample\n",
    "total_weight = sum(weights[i]*best_solution[i] for i in range(len(weights)))\n",
    "total_value = sum(values[i]*best_solution[i] for i in range(len(values)))\n",
    "print(\"La solución óptima es:\", best_solution)\n",
    "print(\"El peso total de la mochila es:\", total_weight)\n",
    "print(\"El valor total de la mochila es:\", total_value)\n"
   ]
  }
 ],
 "metadata": {
  "kernelspec": {
   "display_name": "Python 3",
   "language": "python",
   "name": "python3"
  },
  "language_info": {
   "codemirror_mode": {
    "name": "ipython",
    "version": 3
   },
   "file_extension": ".py",
   "mimetype": "text/x-python",
   "name": "python",
   "nbconvert_exporter": "python",
   "pygments_lexer": "ipython3",
   "version": "3.11.2"
  },
  "orig_nbformat": 4
 },
 "nbformat": 4,
 "nbformat_minor": 2
}
